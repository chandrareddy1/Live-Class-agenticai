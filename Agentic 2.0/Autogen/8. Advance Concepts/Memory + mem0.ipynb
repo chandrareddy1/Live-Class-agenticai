{
 "cells": [
  {
   "cell_type": "markdown",
   "id": "61bbe7aa",
   "metadata": {},
   "source": [
    "# Use mem0 as a memory store "
   ]
  },
  {
   "cell_type": "code",
   "execution_count": 2,
   "id": "d4998cc1",
   "metadata": {},
   "outputs": [],
   "source": [
    "import asyncio\n",
    "import os\n",
    "from autogen_agentchat.agents import AssistantAgent\n",
    "from autogen_core.memory import MemoryContent, MemoryMimeType\n",
    "from autogen_ext.memory.mem0 import Mem0Memory\n",
    "from autogen_ext.models.openai import OpenAIChatCompletionClient\n"
   ]
  },
  {
   "cell_type": "code",
   "execution_count": null,
   "id": "1332805a",
   "metadata": {},
   "outputs": [],
   "source": [
    "api_key=None"
   ]
  },
  {
   "cell_type": "code",
   "execution_count": 11,
   "id": "1ba2c173",
   "metadata": {},
   "outputs": [],
   "source": [
    "async def main():\n",
    "\n",
    "    model_client = OpenAIChatCompletionClient(\n",
    "        model=\"gpt-4o\",\n",
    "        api_key=api_key,\n",
    "    )\n",
    "\n",
    "    mem0_memory = Mem0Memory(\n",
    "        user_id='user12345',\n",
    "        is_cloud=True,\n",
    "        api_key='m0-yXodMG478Rx3VU6jGcw8FnMPTcIjvEIEiydBZy5Z')\n",
    "    \n",
    "    try:\n",
    "\n",
    "        print(\"Attempting to add memories to cloud\")\n",
    "\n",
    "        messages = [\n",
    "            {\n",
    "                \"role\":'user',\"content\": \"I am a vegetarian food and I love cooking.\",\n",
    "            },\n",
    "            {\n",
    "                \"role\":'assistant',\"content\": \"I will remember that preference is Vegetarian.\",\n",
    "            },\n",
    "        ]\n",
    "\n",
    "        mem0_memory._client.add(messages,user_id='user12345',metadata={\"category\": \"preferences\",\"type\": \"diet\"})\n",
    "\n",
    "        messages = [\n",
    "            {\n",
    "                \"role\":'user',\"content\": \"I prefer weather information in metric units.\",\n",
    "            },\n",
    "            {\n",
    "                \"role\":'assistant',\"content\": \"I will remember that  you prefer metric unit in weather.\",\n",
    "            },\n",
    "        ]\n",
    "\n",
    "        mem0_memory._client.add(messages,user_id='user12345',metadata={\"category\": \"preferences\",\"type\": \"units\"})\n",
    "\n",
    "\n",
    "        messages = [\n",
    "            {\n",
    "                \"role\":'user',\"content\": \"My Favourite color is Black.\",\n",
    "            },\n",
    "            {\n",
    "                \"role\":'assistant',\"content\": \"I will remember favorite color is black.\",\n",
    "            },\n",
    "        ]\n",
    "\n",
    "        mem0_memory._client.add(messages,user_id='user12345',metadata={\"category\": \"preferences\",\"type\": \"food\"})\n",
    "\n",
    "\n",
    "        print(\"Memories added successfully\")\n",
    "\n",
    "    \n",
    "    except Exception as e:\n",
    "        print(f\"Error adding memories: {e}\")\n",
    "\n",
    "    agent = AssistantAgent(\n",
    "        name='assistant',\n",
    "        model_client=model_client,\n",
    "        memory=[mem0_memory],\n",
    "        system_message=\"You are a helpful assistant that remembers user preferences and use them to provide personalized responses.\",\n",
    "    )\n",
    "\n",
    "    try:\n",
    "        result = await agent.run(task='What type of food I like ?')\n",
    "\n",
    "        print('Agent Response:',result.messages[-1].content)\n",
    "    except Exception as e:\n",
    "        print(f\"Error running agent: {e}\")\n"
   ]
  },
  {
   "cell_type": "code",
   "execution_count": 12,
   "id": "75239ccd",
   "metadata": {},
   "outputs": [
    {
     "name": "stdout",
     "output_type": "stream",
     "text": [
      "Attempting to add memories to cloud\n"
     ]
    },
    {
     "name": "stderr",
     "output_type": "stream",
     "text": [
      "/Users/mayank/Github Repos/Live-Class/Agentic 2.0/Autogen/.venv/lib/python3.12/site-packages/mem0/client/utils.py:18: DeprecationWarning: output_format='v1.0' is deprecated therefore setting it to 'v1.1' by default. Check out the docs for more information: https://docs.mem0.ai/platform/quickstart#4-1-create-memories\n",
      "  return func(*args, **kwargs)\n"
     ]
    },
    {
     "name": "stdout",
     "output_type": "stream",
     "text": [
      "Memories added successfully\n",
      "Agent Response: Based on what I remember, you are a vegetarian and you love cooking. Do you have any specific dishes or cuisines you enjoy most as a vegetarian?\n"
     ]
    }
   ],
   "source": [
    "await main()"
   ]
  },
  {
   "cell_type": "code",
   "execution_count": null,
   "id": "0a4c04de",
   "metadata": {},
   "outputs": [
    {
     "ename": "NameError",
     "evalue": "name 'result' is not defined",
     "output_type": "error",
     "traceback": [
      "\u001b[31m---------------------------------------------------------------------------\u001b[39m",
      "\u001b[31mNameError\u001b[39m                                 Traceback (most recent call last)",
      "\u001b[36mCell\u001b[39m\u001b[36m \u001b[39m\u001b[32mIn[10]\u001b[39m\u001b[32m, line 1\u001b[39m\n\u001b[32m----> \u001b[39m\u001b[32m1\u001b[39m \u001b[43mresult\u001b[49m\n",
      "\u001b[31mNameError\u001b[39m: name 'result' is not defined"
     ]
    }
   ],
   "source": []
  },
  {
   "cell_type": "code",
   "execution_count": null,
   "id": "234b9644",
   "metadata": {},
   "outputs": [],
   "source": []
  }
 ],
 "metadata": {
  "kernelspec": {
   "display_name": ".venv",
   "language": "python",
   "name": "python3"
  },
  "language_info": {
   "codemirror_mode": {
    "name": "ipython",
    "version": 3
   },
   "file_extension": ".py",
   "mimetype": "text/x-python",
   "name": "python",
   "nbconvert_exporter": "python",
   "pygments_lexer": "ipython3",
   "version": "3.12.9"
  }
 },
 "nbformat": 4,
 "nbformat_minor": 5
}
